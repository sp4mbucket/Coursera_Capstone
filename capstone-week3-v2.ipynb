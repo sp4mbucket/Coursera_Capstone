{
 "cells": [
  {
   "cell_type": "markdown",
   "metadata": {},
   "source": [
    "## Optimize Food Service Delivery Area\n",
    "### Data Science Week 4 Capstone Assignment\n",
    "***\n",
    "#### Business Problem\n",
    "Considering multiple factors such as time of day, traffic patterns, clustering of food providers, and population density help optimize the delivery area by providing maximally efficient routes and service coverage areas, to reduce driver costs and time and shorten customer delivery times.  \n",
    "  \n",
    "#### Data Science Questions\n",
    "1. What are the key features in the datasets available from foursquare and NY City neighborhood data that would determine an optimal coverage area for a food delivery service?\n",
    "2. How are the features that were identified used to optimize the service area?"
   ]
  },
  {
   "cell_type": "markdown",
   "metadata": {},
   "source": [
    "## Data\n",
    "### The following datasets are available:\n",
    "#### NYC Neighborhood Data: \n",
    "A total of 5 boroughs and 306 neighborhoods. In order to segement the neighborhoods and explore them, we will essentially need a dataset that contains the 5 boroughs and the neighborhoods that exist in each borough as well as the the latitude and logitude coordinates of each neighborhood.  \n",
    "#### Foursquare Data: \n",
    "Location based venue information\n",
    "#### Simulation Data:\n",
    "Reference data for augmenting algorithms, includes time of day and traffic data."
   ]
  },
  {
   "cell_type": "code",
   "execution_count": null,
   "metadata": {},
   "outputs": [],
   "source": []
  }
 ],
 "metadata": {
  "kernelspec": {
   "display_name": "Python 3",
   "language": "python",
   "name": "python3"
  },
  "language_info": {
   "codemirror_mode": {
    "name": "ipython",
    "version": 3
   },
   "file_extension": ".py",
   "mimetype": "text/x-python",
   "name": "python",
   "nbconvert_exporter": "python",
   "pygments_lexer": "ipython3",
   "version": "3.7.3"
  }
 },
 "nbformat": 4,
 "nbformat_minor": 2
}
